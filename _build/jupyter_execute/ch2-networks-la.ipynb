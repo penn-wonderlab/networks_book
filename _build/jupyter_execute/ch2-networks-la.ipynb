{
 "cells": [
  {
   "cell_type": "markdown",
   "metadata": {},
   "source": [
    "# Networks in Learning Analytics\n",
    "\n",
    "As traced by Siemens (2013), network analysis (social network analysis in particular) has contributed to the emergence of Learning Analytics as a field.\n",
    "\n",
    "Networks is a popular metaphor we use to make sense of the world. Networks provide a powerful way to think about a variety of phenomena from economic and political interdependencies among countries, interactions between humans in local communities, and to protein interactions in drug development. In education, networks give ways to describe human relationships, neural activities in brains, technology-mediated interactions, language development, discourse patterns, etc. The common use of networks to depict these phenomena is unsurprising given the variety of educational theories and approaches that are deeply committed to a networked view of learning. Compatible with this view, network analysis is applied as a method for understanding learning and connections involved in learning.\n",
    "\n",
    "In this week, we will start to dive into the rich connections between networks and learning analytics.\n",
    "\n",
    "## Required readings\n",
    "\n",
    "Please read and annotate these readings on Canvas:\n",
    "\n",
    "- Chen, B., & Poquet, O. (2022). Networks in Learning Analytics: Where Theory, Methodology, and Practice Intersect. Journal of Learning Analytics, 9(1), Article 1. https://doi.org/10.18608/jla.2022.7697\n",
    "- Poquet, O., & Joksimović, S. (2022). Cacophony of networks in learning analytics. In C. Lang, G. Siemens, A. F. Wise, D. Gašević, & A. Merceron (Eds.), The handbook of learning analytics (2nd ed., pp. 38–45). SoLAR. https://www.solaresearch.org/publications/hla-22/hla22-chapter4/\n",
    "- Dawson, S., Bakharia, A., & Heathcote, E. (2010). SNAPP: Realising the affordances of real-time SNA within networked learning environments. In L. Dirckinck-Holmfeld, V. Hodgson, C. Jones, M. de Laat, D. McConnell, & T. Ryberg (Eds.), Proceedings of the 7th International Conference on Networked Learning (pp. 125–133). Lancaster University.\n",
    "\n",
    "## Instructional video\n",
    "\n",
    "Please also watch this SoLAR webinar delivered by Drs. Sasha Poquet and Bodong Chen on this topic. \n",
    "\n",
    "This webinar explores the conceptual, methodological, and practical use of networks in learning analytics by presenting examples from real-world learning and teaching scenarios that cover the following areas. First, in learning analytics networks are a powerful tool to visually represent connections of all sorts in ways that are straightforward for humans to act upon. Second, network analysis offers a set of metrics that are useful for characterising and assessing various dimensions of learning. Third, the modelling of networks can help to develop explanatory theories about complex learning processes. They present case studies in each area to demonstrate the utility of networks in learning analytics. By doing so, they argue for a wider conception of learning as a networked phenomenon and call for future learning analytics work in this area.\n",
    "\n",
    "<iframe width=\"560\" height=\"315\" src=\"https://www.youtube.com/embed/gEd95ILsBjc?si=f3vVKCtCTR01ztic\" title=\"YouTube video player\" frameborder=\"0\" allow=\"accelerometer; autoplay; clipboard-write; encrypted-media; gyroscope; picture-in-picture; web-share\" allowfullscreen></iframe>\n",
    "\n"
   ]
  },
  {
   "cell_type": "markdown",
   "metadata": {},
   "source": []
  }
 ],
 "metadata": {
  "language_info": {
   "codemirror_mode": {
    "name": "ipython",
    "version": 3
   },
   "file_extension": ".py",
   "mimetype": "text/x-python",
   "name": "python",
   "nbconvert_exporter": "python",
   "pygments_lexer": "ipython3",
   "version": "3.11.8"
  }
 },
 "nbformat": 4,
 "nbformat_minor": 2
}
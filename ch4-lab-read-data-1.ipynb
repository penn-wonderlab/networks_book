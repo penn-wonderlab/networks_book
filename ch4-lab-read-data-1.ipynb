{
 "cells": [
  {
   "cell_type": "markdown",
   "metadata": {},
   "source": [
    "# Getting Started with Network Data"
   ]
  },
  {
   "cell_type": "code",
   "execution_count": null,
   "metadata": {},
   "outputs": [],
   "source": [
    "import networkx as nx\n",
    "import matplotlib.pyplot as plt"
   ]
  },
  {
   "cell_type": "markdown",
   "metadata": {},
   "source": [
    "NetworkX reference page: https://networkx.org/documentation/stable/index.html\n",
    "\n",
    "## Create a graph by yourself"
   ]
  },
  {
   "cell_type": "code",
   "execution_count": null,
   "metadata": {},
   "outputs": [],
   "source": [
    "g = nx.Graph()\n",
    "\n",
    "# g.add_node(1)             # Add a single node\n",
    "g.add_nodes_from([1,2,3])   # Add a list of nodes\n",
    "\n",
    "g.add_edge(1,2)\n",
    "g.add_edge(3,1)"
   ]
  },
  {
   "cell_type": "code",
   "execution_count": null,
   "metadata": {},
   "outputs": [],
   "source": [
    "nx.draw_networkx(g)"
   ]
  },
  {
   "cell_type": "markdown",
   "metadata": {},
   "source": [
    "## Import a classic network"
   ]
  },
  {
   "cell_type": "code",
   "execution_count": null,
   "metadata": {},
   "outputs": [],
   "source": [
    "g_kk = nx.krackhardt_kite_graph()\n",
    "\n",
    "nx.draw_networkx(g_kk)"
   ]
  },
  {
   "cell_type": "markdown",
   "metadata": {},
   "source": [
    "## Import a graph file\n",
    "\n",
    "In this example, we import a dataset about collaborations in network science. Read more about the network [here](https://networks.skewed.de/net/netscience). \n",
    "\n",
    "First, download a zip file containing the data from [this page](https://websites.umich.edu/~mejn/netdata/). The dataset you need is about [Coauthorships in network science](https://websites.umich.edu/~mejn/netdata/netscience.zip). After downloading, open the zip file to unzip it to a directory that you can access. \n",
    "\n",
    "If you run the notebook locally, change the `PATH_TO` below to point the path to the .gml file.\n",
    "\n",
    "If you use Google Colab, read [this page](https://saturncloud.io/blog/uploading-local-files-using-google-colab/) to understand how to upload local files to Colab. The simplest solution is probably to use `files.upload()`. "
   ]
  },
  {
   "cell_type": "code",
   "execution_count": null,
   "metadata": {},
   "outputs": [],
   "source": [
    "G = nx.read_gml(\"PATH_TO/netscience.gml\") # change PATH_TO"
   ]
  },
  {
   "cell_type": "code",
   "execution_count": null,
   "metadata": {},
   "outputs": [],
   "source": [
    "list(G.nodes(data=True))"
   ]
  },
  {
   "cell_type": "code",
   "execution_count": null,
   "metadata": {},
   "outputs": [],
   "source": [
    "list(G.edges(data=True))"
   ]
  },
  {
   "cell_type": "code",
   "execution_count": null,
   "metadata": {},
   "outputs": [],
   "source": [
    "nx.draw_networkx(G, with_labels=False)"
   ]
  },
  {
   "cell_type": "markdown",
   "metadata": {},
   "source": [
    "## Import an edge list file"
   ]
  },
  {
   "cell_type": "code",
   "execution_count": null,
   "metadata": {},
   "outputs": [],
   "source": [
    "import pandas as pd"
   ]
  },
  {
   "cell_type": "code",
   "execution_count": null,
   "metadata": {},
   "outputs": [],
   "source": [
    "df = pd.read_csv(\"https://raw.githubusercontent.com/eehh-stanford/SNA-workshop/master/hp5edgelist.txt\", delimiter='\\t')\n",
    "df = df.rename(columns={\"“From”\": \"From\", '“To”': \"To\"})\n",
    "df"
   ]
  },
  {
   "cell_type": "code",
   "execution_count": null,
   "metadata": {},
   "outputs": [],
   "source": [
    "DG = nx.from_pandas_edgelist(df, 'From', 'To', create_using=nx.DiGraph())"
   ]
  },
  {
   "cell_type": "code",
   "execution_count": null,
   "metadata": {},
   "outputs": [],
   "source": [
    "nx.draw_networkx(DG)"
   ]
  },
  {
   "cell_type": "code",
   "execution_count": null,
   "metadata": {},
   "outputs": [],
   "source": [
    "nx.density(DG)"
   ]
  },
  {
   "cell_type": "code",
   "execution_count": null,
   "metadata": {},
   "outputs": [],
   "source": [
    "list(nx.degree(DG))"
   ]
  },
  {
   "cell_type": "markdown",
   "metadata": {},
   "source": [
    "## Other datasets\n",
    "\n",
    "If you are interested in playing with more datasets, there are many places to find network data. Below is a list of sites you can start with:\n",
    "\n",
    "\n",
    "- [Gephi datasets](https://github.com/gephi/gephi/wiki/Datasets)\n",
    "- [Netzschleuder](https://networks.skewed.de/)\n",
    "- [UCI Network Data Repository](https://networkdata.ics.uci.edu/)\n",
    "- [Stanford Large Network Dataset Collection](https://snap.stanford.edu/data/)\n",
    "\n",
    "Have fun!"
   ]
  }
 ],
 "metadata": {
  "kernelspec": {
   "display_name": "Python 3",
   "language": "python",
   "name": "python3"
  },
  "language_info": {
   "codemirror_mode": {
    "name": "ipython",
    "version": 3
   },
   "file_extension": ".py",
   "mimetype": "text/x-python",
   "name": "python",
   "nbconvert_exporter": "python",
   "pygments_lexer": "ipython3",
   "version": "3.11.1"
  }
 },
 "nbformat": 4,
 "nbformat_minor": 2
}
